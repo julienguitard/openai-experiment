{
 "cells": [
  {
   "cell_type": "code",
   "execution_count": 100,
   "id": "bc08fa0f",
   "metadata": {},
   "outputs": [],
   "source": [
    "import sys"
   ]
  },
  {
   "cell_type": "markdown",
   "id": "e1f00c65",
   "metadata": {},
   "source": [
    "# Module management and impot"
   ]
  },
  {
   "cell_type": "code",
   "execution_count": 101,
   "id": "a9ce9620",
   "metadata": {},
   "outputs": [],
   "source": [
    "sys.path.append('../')\n",
    "\n",
    "for p in ['', '/Users/julienguitard/local_python/sandbox/langchain_experiment/notebooks', '/Users/julienguitard/lc-data/sources/libs', '/Users/julienguitard/lc-data/sources', '/opt/anaconda3/envs/py311/lib/python311.zip', '/opt/anaconda3/envs/py311/lib/python3.11', '/opt/anaconda3/envs/py311/lib/python3.11/lib-dynload', '/Users/julienguitard/.local/lib/python3.11/site-packages', '/opt/anaconda3/envs/py311/lib/python3.11/site-packages', '/opt/anaconda3/envs/py311/lib/python3.11/site-packages/aeosa', '../']:\n",
    "    if ('3.11' in p) or ('311' in p):\n",
    "        sys.path.append(p)"
   ]
  },
  {
   "cell_type": "code",
   "execution_count": 102,
   "id": "6d684e1c",
   "metadata": {},
   "outputs": [],
   "source": [
    "from neo4j import GraphDatabase\n",
    "from src.databases.constants import NEO4J_URI,NEO4J_USERNAME,NEO4J_PASSWORD"
   ]
  },
  {
   "cell_type": "markdown",
   "id": "d1224678",
   "metadata": {},
   "source": [
    "# Connexion check"
   ]
  },
  {
   "cell_type": "markdown",
   "id": "04c6053f",
   "metadata": {},
   "source": [
    "## Own instance"
   ]
  },
  {
   "cell_type": "code",
   "execution_count": 103,
   "id": "9047c478-bf2f-45ed-8544-c4a281a2dfa6",
   "metadata": {},
   "outputs": [
    {
     "name": "stdout",
     "output_type": "stream",
     "text": [
      "Connection established.\n"
     ]
    }
   ],
   "source": [
    "URI = NEO4J_URI\n",
    "AUTH = (NEO4J_USERNAME, NEO4J_PASSWORD)\n",
    "\n",
    "with GraphDatabase.driver(URI, auth=AUTH) as driver:\n",
    "    driver.verify_connectivity()\n",
    "    print(\"Connection established.\")"
   ]
  },
  {
   "cell_type": "markdown",
   "id": "8f4072e5",
   "metadata": {},
   "source": [
    "## Wordnet"
   ]
  },
  {
   "cell_type": "code",
   "execution_count": 123,
   "id": "5bde8497",
   "metadata": {},
   "outputs": [],
   "source": [
    "database= \"wordnet\""
   ]
  },
  {
   "cell_type": "code",
   "execution_count": 124,
   "id": "957bf2b3",
   "metadata": {},
   "outputs": [],
   "source": [
    "URI = \"neo4j+s://demo.neo4jlabs.com\"\n",
    "AUTH = (database, database)"
   ]
  },
  {
   "cell_type": "code",
   "execution_count": 173,
   "id": "500e98ec",
   "metadata": {},
   "outputs": [],
   "source": [
    "query = '''MATCH \n",
    "(f:ontolex__Form {ontolex__writtenRep:\"give\"})\n",
    "<-[:ontolex__canonicalForm]-\n",
    "(e:ontolex__LexicalEntry {ontolex__canonicalForm: 'give'})\n",
    "-[:ontolex__sense]->\n",
    "(s:ontolex__LexicalSense)\n",
    "-[:ontolex__isLexicalizedSenseOf]->\n",
    "(c:ontolex__LexicalConcept) \n",
    "RETURN f,e,s,c \n",
    "LIMIT 25'''"
   ]
  },
  {
   "cell_type": "code",
   "execution_count": 174,
   "id": "36c34ebd",
   "metadata": {},
   "outputs": [],
   "source": [
    "def make_query_safe(query,n=100):\n",
    "        str_n = str(n)\n",
    "        parsed_query = query.split('LIMIT ')\n",
    "        modified_query = 'LIMIT '.join([parsed_query[0],str_n ])\n",
    "        return modified_query           "
   ]
  },
  {
   "cell_type": "code",
   "execution_count": 175,
   "id": "fcbb5a8a",
   "metadata": {},
   "outputs": [
    {
     "name": "stdout",
     "output_type": "stream",
     "text": [
      "Connection established.\n",
      "records : 45\n"
     ]
    }
   ],
   "source": [
    "with GraphDatabase.driver(URI, auth=AUTH) as driver:\n",
    "    driver.verify_connectivity()\n",
    "    print(\"Connection established.\")\n",
    "    records, summary, keys  = driver.execute_query(make_query_safe(query),database=database)\n",
    "    print('records : {}'.format(len(records)))"
   ]
  },
  {
   "cell_type": "code",
   "execution_count": 176,
   "id": "a5fa618d",
   "metadata": {},
   "outputs": [
    {
     "data": {
      "text/plain": [
       "<Node element_id='4:a2994634-c0a6-43ac-8f9a-1cbcfea686c9:591440' labels=frozenset({'ontolex__LexicalEntry', 'li__Noun', 'Resource'}) properties={'ontolex__canonicalForm': 'give', 'uri': 'https://en-word.net/lemma/give#give-n', 'wn__partOfSpeech': 'Noun'}>"
      ]
     },
     "execution_count": 176,
     "metadata": {},
     "output_type": "execute_result"
    }
   ],
   "source": [
    "records[0]['e']"
   ]
  },
  {
   "cell_type": "code",
   "execution_count": 93,
   "id": "140a1964",
   "metadata": {},
   "outputs": [
    {
     "data": {
      "text/plain": [
       "[<Record n=<Node element_id='4:a2994634-c0a6-43ac-8f9a-1cbcfea686c9:204536' labels=frozenset({'li__Verb', 'ontolex__LexicalEntry', 'Resource'}) properties={'ontolex__canonicalForm': 'hurl', 'uri': 'https://en-word.net/lemma/hurl#hurl-v', 'wn__partOfSpeech': 'Verb'}>>]"
      ]
     },
     "execution_count": 93,
     "metadata": {},
     "output_type": "execute_result"
    }
   ],
   "source": [
    "[r\n",
    " for r in [r for r in records if 'ontolex__canonicalForm' in r['n'].keys()] if r['n']['ontolex__canonicalForm']=='hurl']"
   ]
  },
  {
   "cell_type": "code",
   "execution_count": null,
   "id": "b9f983a6",
   "metadata": {},
   "outputs": [],
   "source": []
  }
 ],
 "metadata": {
  "kernelspec": {
   "display_name": "Python 3",
   "language": "python",
   "name": "python3"
  },
  "language_info": {
   "codemirror_mode": {
    "name": "ipython",
    "version": 3
   },
   "file_extension": ".py",
   "mimetype": "text/x-python",
   "name": "python",
   "nbconvert_exporter": "python",
   "pygments_lexer": "ipython3",
   "version": "3.7.3"
  }
 },
 "nbformat": 4,
 "nbformat_minor": 5
}
